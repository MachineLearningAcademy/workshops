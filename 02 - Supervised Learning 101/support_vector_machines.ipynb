{
  "cells": [
    {
      "cell_type": "markdown",
      "source": [
        "# Supervised Learning"
      ],
      "metadata": {}
    },
    {
      "cell_type": "markdown",
      "source": [
        "Reiterating what we learned last session, supervised learning is the family of algorithms that given a training set are able to find a predictive model. \n",
        "\n",
        "This predictive model assigns a reference value, y, to a certain feature vector, x.\n",
        "\n",
        "$ y = f(x) $\n",
        "\n",
        "The supervised learning algorithms can be further divided into the class of classification and regression problems.\n",
        "\n\n"
      ],
      "metadata": {}
    },
    {
      "cell_type": "markdown",
      "source": [
        "# Regression vs Classification\n",
        "\n"
      ],
      "metadata": {}
    },
    {
      "cell_type": "markdown",
      "source": [
        "The distinction between regression and classification problems is concerned with the reference value, y.\n",
        "\n",
        "In regression problems this reference value belongs to a continuous domain. For example, linear regression is concerned with finding a line that best explains the data. This line can be considered a predictive model, given a certain x it predicts a value for y.\n",
        "\n",
        "<img src=\"img/regression.png\">\n",
        "\n",
        "In classification problems the reference value is discrete. For example, given a picture classifying what object is represented. The output will follow a discrete number of possible values, it is either a ship or a horse not a ship-horse.\n",
        "\n",
        "<img src=\"img/classification.png\">\n",
        "\nIn this workshop we will look at two classifier algorithms and in the next one we will look into regression models. The first algorithm we will look at is the Support Vector Machine model."
      ],
      "metadata": {}
    },
    {
      "cell_type": "markdown",
      "source": [
        "# Support Vector Machines"
      ],
      "metadata": {}
    },
    {
      "cell_type": "markdown",
      "source": [
        "Support vector machines try to divide the space of training data with a hyperplane in such a way that it maximizes the distance between two classes."
      ],
      "metadata": {}
    },
    {
      "cell_type": "markdown",
      "source": [],
      "metadata": {}
    },
    {
      "cell_type": "markdown",
      "source": [
        "# Title"
      ],
      "metadata": {}
    },
    {
      "cell_type": "code",
      "source": [
        "print(2)\n"
      ],
      "outputs": [
        {
          "output_type": "stream",
          "name": "stdout",
          "text": [
            "2\n"
          ]
        }
      ],
      "execution_count": 10,
      "metadata": {
        "collapsed": false,
        "outputHidden": false,
        "inputHidden": false
      }
    },
    {
      "cell_type": "code",
      "source": [
        "import matplotlib\n"
      ],
      "outputs": [],
      "execution_count": 9,
      "metadata": {
        "collapsed": false,
        "outputHidden": false,
        "inputHidden": false
      }
    },
    {
      "cell_type": "code",
      "source": [],
      "outputs": [],
      "execution_count": 10,
      "metadata": {
        "collapsed": false,
        "outputHidden": false,
        "inputHidden": false
      }
    },
    {
      "cell_type": "code",
      "source": [],
      "outputs": [],
      "execution_count": 10,
      "metadata": {
        "collapsed": false,
        "outputHidden": false,
        "inputHidden": false
      }
    },
    {
      "cell_type": "code",
      "source": [],
      "outputs": [],
      "execution_count": 10,
      "metadata": {
        "collapsed": false,
        "outputHidden": false,
        "inputHidden": false
      }
    },
    {
      "cell_type": "code",
      "source": [],
      "outputs": [],
      "execution_count": null,
      "metadata": {
        "collapsed": false,
        "outputHidden": false,
        "inputHidden": false
      }
    },
    {
      "cell_type": "code",
      "source": [],
      "outputs": [],
      "execution_count": null,
      "metadata": {
        "collapsed": false,
        "outputHidden": false,
        "inputHidden": false
      }
    }
  ],
  "metadata": {
    "kernelspec": {
      "name": "python3",
      "language": "python",
      "display_name": "Python 3"
    },
    "kernel_info": {
      "name": "python3"
    },
    "language_info": {
      "version": "3.4.5",
      "pygments_lexer": "ipython3",
      "name": "python",
      "nbconvert_exporter": "python",
      "file_extension": ".py",
      "mimetype": "text/x-python",
      "codemirror_mode": {
        "version": 3,
        "name": "ipython"
      }
    }
  },
  "nbformat": 4,
  "nbformat_minor": 4
}