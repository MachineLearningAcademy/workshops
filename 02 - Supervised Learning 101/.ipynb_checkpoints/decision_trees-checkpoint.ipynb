{
 "cells": [
  {
   "cell_type": "markdown",
   "metadata": {
    "collapsed": false,
    "inputHidden": false,
    "outputHidden": false
   },
   "source": [
    "** Decision Trees **\n",
    "===\n",
    "\n",
    "Decision trees are flowchart-like structures composed by nodes, branches and leafs. A node is a test on a certain attribute, a branch represents the outcome of a test and finally, a leaf corresponds to the decision taken.\n",
    "\n",
    "This takes us to decision tree learning. The goal of this method is to create a model that predicts the outcome of a given variable based on several inputs.\n",
    "\n",
    "A simple example as seen in Tom Mitchell's \"Machine Learning\" is the following:\n",
    "\n",
    "![alternate text](https://www.cise.ufl.edu/~ddd/cap6635/Fall-97/Short-papers/Image3.gif)"
   ]
  },
  {
   "cell_type": "markdown",
   "metadata": {},
   "source": [
    "------------------------------------------------------------------------------------------------------------------\n",
    "Pros:\n",
    "==\n",
    "\n",
    "* Simple to understand and to visualize.\n",
    "\n",
    "* Requires little data preparation.\n",
    "\n",
    "* Complexity of the algorithm is logarithmic in the number of points used to train the tree.\n",
    "\n",
    "Cons:\n",
    "==\n",
    "\n",
    "* Prone to overfitting. Aside from choosing the right values for the right parameters, it might require extra techniques, such as pruning to avoid this problem.\n",
    "\n",
    "* Decision trees might be unstable, with small variations in data resulting on very different trees.\n",
    "\n",
    "More at: http://scikit-learn.org/stable/modules/tree.html#"
   ]
  },
  {
   "cell_type": "markdown",
   "metadata": {},
   "source": [
    "------------------------------------------------------------------------------------------------------------------\n",
    "Mathematical Background:\n",
    "==\n",
    "\n",
    "There are plenty of implementations of Decision Trees. Scikit implements an optimised version of the **CART (Classification and Regression Trees)** algorithm. This algorithm works by constructing binary trees (a tree data structure in which each node has at most two children) using the feature and threshold that allow the tree to gain the biggest amount of information at each node.\n",
    "\n",
    "\n",
    "\n",
    "In this workshop we will use entropy as the measure of information gain and as the criterion in our decision tree classifier. Information gain is based on the concept of entropy from information theory.\n",
    "\n",
    "Information gain may be defined as:\n",
    "\n",
    "$$IG(T,a) = H(T) - H(T|a)$$\n",
    "\n",
    "which can be translated as *\"Information gain is given by the entropy of the parent node minus the weighted sum of entropy of the children nodes\"*. \n",
    "\n",
    "It's also important to define entropy:\n",
    "\n",
    "$$H(T) = -\\sum_{i=1}^j p_i log_2 p_i$$\n",
    "\n",
    "where $p_i$ represents the percentage of each class present in the child node that results in a split in the tree.\n",
    "\n",
    "A good way to understand the concept of entropy is by looking at the following graphic:\n",
    "\n",
    "![alternate text](https://upload.wikimedia.org/wikipedia/commons/thumb/2/22/Binary_entropy_plot.svg/320px-Binary_entropy_plot.svg.png?1490734279242)\n",
    "\n",
    "As we can see, entropy is a measure that has values between 0 and 1. When in an event with two possible outcomes, one has probability 0 and the other one 1, we have absolute certainty about the outcome and therefore, zero entropy on that decision. When we have two events that are equally probable, the uncertainty on the outcome is maximum and so is the entropy.\n",
    "\n",
    "Since the entropy of the parent node is always the same for a certain tree split, we may approach this problem by finding the decision that minimizes the sum of the entropy of the children nodes.\n",
    "\n"
   ]
  },
  {
   "cell_type": "code",
   "execution_count": 3,
   "metadata": {
    "collapsed": false
   },
   "outputs": [
    {
     "name": "stdout",
     "output_type": "stream",
     "text": [
      "Iris dataframe)\n",
      "   SepalLength  SepalWidth  PetalLength  PetalWidth         Name\n",
      "0          5.1         3.5          1.4         0.2  Iris-setosa\n",
      "1          4.9         3.0          1.4         0.2  Iris-setosa\n",
      "2          4.7         3.2          1.3         0.2  Iris-setosa\n",
      "3          4.6         3.1          1.5         0.2  Iris-setosa\n",
      "4          5.0         3.6          1.4         0.2  Iris-setosa\n",
      "\n",
      "....\n",
      "\n",
      "     SepalLength  SepalWidth  PetalLength  PetalWidth            Name\n",
      "145          6.7         3.0          5.2         2.3  Iris-virginica\n",
      "146          6.3         2.5          5.0         1.9  Iris-virginica\n",
      "147          6.5         3.0          5.2         2.0  Iris-virginica\n",
      "148          6.2         3.4          5.4         2.3  Iris-virginica\n",
      "149          5.9         3.0          5.1         1.8  Iris-virginica\n",
      "\n",
      "....\n",
      "\n",
      "<class 'pandas.core.frame.DataFrame'>\n",
      "RangeIndex: 150 entries, 0 to 149\n",
      "Data columns (total 5 columns):\n",
      "SepalLength    150 non-null float64\n",
      "SepalWidth     150 non-null float64\n",
      "PetalLength    150 non-null float64\n",
      "PetalWidth     150 non-null float64\n",
      "Name           150 non-null object\n",
      "dtypes: float64(4), object(1)\n",
      "memory usage: 5.9+ KB\n",
      "None\n",
      "\n",
      "....\n",
      "\n",
      "       SepalLength  SepalWidth  PetalLength  PetalWidth\n",
      "count   150.000000  150.000000   150.000000  150.000000\n",
      "mean      5.843333    3.054000     3.758667    1.198667\n",
      "std       0.828066    0.433594     1.764420    0.763161\n",
      "min       4.300000    2.000000     1.000000    0.100000\n",
      "25%       5.100000    2.800000     1.600000    0.300000\n",
      "50%       5.800000    3.000000     4.350000    1.300000\n",
      "75%       6.400000    3.300000     5.100000    1.800000\n",
      "max       7.900000    4.400000     6.900000    2.500000\n"
     ]
    }
   ],
   "source": [
    "# Data visualization\n",
    "import pandas as pd\n",
    "\n",
    "iris_df = pd.read_csv(\"https://raw.githubusercontent.com/plotly/datasets/master/iris.csv\")\n",
    "print(\"Iris dataframe)\",iris_df.head(),sep=\"\\n\")\n",
    "print(\"\\n....\\n\")\n",
    "print(iris_df.tail(),sep=\"\\n\")\n",
    "print(\"\\n....\\n\")\n",
    "print(iris_df.info())\n",
    "print(\"\\n....\\n\")\n",
    "print(iris_df.describe())"
   ]
  },
  {
   "cell_type": "markdown",
   "metadata": {},
   "source": [
    "------------------------------------------------------------------------------------------------------------------\n",
    "\n",
    "As we can see, what we intend to use as label in our learning model (the names of the plants), is not a float and this will bring us problems later on when we try to train the model.. let's then start by encoding them to floats!"
   ]
  },
  {
   "cell_type": "code",
   "execution_count": 10,
   "metadata": {
    "collapsed": false
   },
   "outputs": [
    {
     "name": "stdout",
     "output_type": "stream",
     "text": [
      "Our column \"Name\" now looks like this:\n",
      " [0 0 0 0 0 0 0 0 0 0 0 0 0 0 0 0 0 0 0 0 0 0 0 0 0 0 0 0 0 0 0 0 0 0 0 0 0\n",
      " 0 0 0 0 0 0 0 0 0 0 0 0 0 1 1 1 1 1 1 1 1 1 1 1 1 1 1 1 1 1 1 1 1 1 1 1 1\n",
      " 1 1 1 1 1 1 1 1 1 1 1 1 1 1 1 1 1 1 1 1 1 1 1 1 1 1 2 2 2 2 2 2 2 2 2 2 2\n",
      " 2 2 2 2 2 2 2 2 2 2 2 2 2 2 2 2 2 2 2 2 2 2 2 2 2 2 2 2 2 2 2 2 2 2 2 2 2\n",
      " 2 2]\n"
     ]
    }
   ],
   "source": [
    "# Encoding the labels to be usabel in our training model\n",
    "from sklearn import preprocessing\n",
    "\n",
    "le = preprocessing.LabelEncoder()\n",
    "le.fit(iris_df[\"Name\"])\n",
    "y = le.transform(iris_df[\"Name\"])\n",
    "\n",
    "print(\"Our column \\\"Name\\\" now looks like this:\\n {}\".format(y))"
   ]
  },
  {
   "cell_type": "markdown",
   "metadata": {},
   "source": [
    "------------------------------------------------------------------------------------------------------------------\n",
    "\n",
    "Now that this problem is solved, we will split our dataset into two, one training set and on test set. This will allow us to check if our system is generalizing properly to unseen data and therefore, whether it is overfitting or not."
   ]
  },
  {
   "cell_type": "code",
   "execution_count": 8,
   "metadata": {
    "collapsed": false
   },
   "outputs": [
    {
     "ename": "ImportError",
     "evalue": "No module named 'sklearn.model_selection'",
     "output_type": "error",
     "traceback": [
      "\u001b[0;31m--------------------------------------------------------------------------\u001b[0m",
      "\u001b[0;31mImportError\u001b[0m                              Traceback (most recent call last)",
      "\u001b[0;32m<ipython-input-8-f7fa8e6b5037>\u001b[0m in \u001b[0;36m<module>\u001b[0;34m()\u001b[0m\n\u001b[1;32m      1\u001b[0m \u001b[0;31m# Split the data into a training and test set\u001b[0m\u001b[0;34m\u001b[0m\u001b[0;34m\u001b[0m\u001b[0m\n\u001b[0;32m----> 2\u001b[0;31m \u001b[0;32mfrom\u001b[0m \u001b[0msklearn\u001b[0m\u001b[0;34m.\u001b[0m\u001b[0mmodel_selection\u001b[0m \u001b[0;32mimport\u001b[0m \u001b[0mtrain_test_split\u001b[0m\u001b[0;34m\u001b[0m\u001b[0m\n\u001b[0m\u001b[1;32m      3\u001b[0m \u001b[0;34m\u001b[0m\u001b[0m\n\u001b[1;32m      4\u001b[0m \u001b[0mX\u001b[0m \u001b[0;34m=\u001b[0m \u001b[0miris_df\u001b[0m\u001b[0;34m.\u001b[0m\u001b[0mdrop\u001b[0m\u001b[0;34m(\u001b[0m\u001b[0;34m\"Name\"\u001b[0m\u001b[0;34m,\u001b[0m\u001b[0;36m1\u001b[0m\u001b[0;34m)\u001b[0m\u001b[0;34m\u001b[0m\u001b[0m\n\u001b[1;32m      5\u001b[0m \u001b[0;34m\u001b[0m\u001b[0m\n",
      "\u001b[0;31mImportError\u001b[0m: No module named 'sklearn.model_selection'"
     ]
    }
   ],
   "source": [
    "# Split the data into a training and test set\n",
    "from sklearn.model_selection import train_test_split\n",
    "\n",
    "X = iris_df.drop(\"Name\",1)\n",
    "\n",
    "X_train, X_test, y_train, y_test = train_test_split(X, y, test_size=0.33, random_state=42)"
   ]
  },
  {
   "cell_type": "markdown",
   "metadata": {},
   "source": [
    "------------------------------------------------------------------------------------------------------------------\n",
    "We can now train our model!"
   ]
  },
  {
   "cell_type": "code",
   "execution_count": 11,
   "metadata": {
    "collapsed": false
   },
   "outputs": [
    {
     "ename": "NameError",
     "evalue": "name 'DecisionTreeClassifier' is not defined",
     "output_type": "error",
     "traceback": [
      "\u001b[0;31m--------------------------------------------------------------------------\u001b[0m",
      "\u001b[0;31mNameError\u001b[0m                                Traceback (most recent call last)",
      "\u001b[0;32m<ipython-input-11-502e5fe536b3>\u001b[0m in \u001b[0;36m<module>\u001b[0;34m()\u001b[0m\n\u001b[0;32m----> 1\u001b[0;31m dt = DecisionTreeClassifier(criterion='entropy', splitter='best', max_depth=3, min_samples_split=5, \n\u001b[0m\u001b[1;32m      2\u001b[0m                                                         \u001b[0mmin_samples_leaf\u001b[0m\u001b[0;34m=\u001b[0m\u001b[0;36m6\u001b[0m\u001b[0;34m,\u001b[0m \u001b[0mmin_weight_fraction_leaf\u001b[0m\u001b[0;34m=\u001b[0m\u001b[0;36m0.0\u001b[0m\u001b[0;34m,\u001b[0m \u001b[0mmax_features\u001b[0m\u001b[0;34m=\u001b[0m\u001b[0;32mNone\u001b[0m\u001b[0;34m,\u001b[0m\u001b[0;34m\u001b[0m\u001b[0m\n\u001b[1;32m      3\u001b[0m                                                         \u001b[0mrandom_state\u001b[0m\u001b[0;34m=\u001b[0m\u001b[0;32mNone\u001b[0m\u001b[0;34m,\u001b[0m \u001b[0mmax_leaf_nodes\u001b[0m\u001b[0;34m=\u001b[0m\u001b[0;32mNone\u001b[0m\u001b[0;34m,\u001b[0m \u001b[0mmin_impurity_split\u001b[0m\u001b[0;34m=\u001b[0m\u001b[0;36m1e-07\u001b[0m\u001b[0;34m,\u001b[0m \u001b[0mclass_weight\u001b[0m\u001b[0;34m=\u001b[0m\u001b[0;32mNone\u001b[0m\u001b[0;34m,\u001b[0m\u001b[0;34m\u001b[0m\u001b[0m\n\u001b[1;32m      4\u001b[0m \t\t\t\t\t\t\tpresort=False)\n\u001b[1;32m      5\u001b[0m \u001b[0mdt\u001b[0m\u001b[0;34m.\u001b[0m\u001b[0mfit\u001b[0m\u001b[0;34m(\u001b[0m\u001b[0mX_train\u001b[0m\u001b[0;34m,\u001b[0m\u001b[0my_train\u001b[0m\u001b[0;34m)\u001b[0m\u001b[0;34m\u001b[0m\u001b[0m\n",
      "\u001b[0;31mNameError\u001b[0m: name 'DecisionTreeClassifier' is not defined"
     ]
    }
   ],
   "source": [
    "dt = DecisionTreeClassifier(criterion='entropy', splitter='best', max_depth=3, min_samples_split=5, \n",
    "\t\t\t\t\t\t\tmin_samples_leaf=6, min_weight_fraction_leaf=0.0, max_features=None, \n",
    "\t\t\t\t\t\t\trandom_state=None, max_leaf_nodes=None, min_impurity_split=1e-07, class_weight=None, \n",
    "\t\t\t\t\t\t\tpresort=False)\n",
    "dt.fit(X_train,y_train)\n",
    "\n",
    "# Predicted labels for our test features - not needed, it's just to visualize it\n",
    "Y_pred = dt.predict(X_test)\n",
    "\n",
    "print(\"The predicted values are: \\n {}\".format(Y_pred))\n",
    "print(\"The values that should be obtained are: \\n {}\".format(y_test))\n",
    "\n",
    "score_train = dt.score(X_train,y_train)\n",
    "score_test = dt.score(X_test, y_test)\n",
    "\n",
    "print(\"Our model has a score of {} for the train set and a score of {} for the test set\".format(score_train,score_test))"
   ]
  },
  {
   "cell_type": "markdown",
   "metadata": {
    "collapsed": true
   },
   "source": [
    "------------------------------------------------------------------------------------------------------------------\n",
    "Python allows us to visualize random trees. But since it requires some extra non-common libraries we will only show examples of obtainable trees. We provide the code nonetheless, so you can try it at home!"
   ]
  },
  {
   "cell_type": "code",
   "execution_count": null,
   "metadata": {
    "collapsed": true
   },
   "outputs": [],
   "source": [
    "# Visualize the decision tree\n",
    "\n",
    "\"\"\"\n",
    "import pydotplus \n",
    "from sklearn import tree\n",
    "\n",
    "features = X.columns[:4]\n",
    "\n",
    "dot_data = tree.export_graphviz(dt, out_file=None,\n",
    "\t\t\t\t\t\t\t\tfeature_names = features, class_names = ['setosa','versicolor','virginica'],\n",
    "\t\t\t\t\t\t\t\tfilled = True, rounded = True) \n",
    "graph = pydotplus.graph_from_dot_data(dot_data) \n",
    "graph.write_pdf(\"iris.pdf\")\"\"\""
   ]
  },
  {
   "cell_type": "markdown",
   "metadata": {
    "collapsed": true
   },
   "source": [
    "------------------------------------------------------------------------------------------------------------------\n",
    "Using a maximum depth of 1, minimum number of samples at a leaf node of 5, we obtain a **train score of 0.66 and a test score of 0.68**.\n",
    "\n",
    "![alternate text](http://i65.tinypic.com/21mi1s8.png)\n",
    "\n",
    "------------------------------------------------------------------------------------------------------------------\n",
    "But we can do better. Using a maximum depth of 2, our **train score improves to 0.96 and our test score to 0.98**.\n",
    "\n",
    "![alternate text](http://i63.tinypic.com/21jpspf.png)\n",
    "\n",
    "------------------------------------------------------------------------------------------------------------------\n",
    "What if we allow our tree to have a maximum depth of 3? We can finally get a **test score of 1, while having a train score of 0.98!**\n",
    "\n",
    "![alternate text](http://i65.tinypic.com/2nm3wba.png)\n",
    "\n",
    "------------------------------------------------------------------------------------------------------------------\n",
    "Let's now keep this maximum depth, but increase the minimum number of samples at a leaf node to 6. **Our train score decreased to 0.95 and our test score to 0.98.** This means that incresing this value made our system worse at learning the data..\n",
    "\n",
    "![alternate text](http://i68.tinypic.com/2qus01w.png)\n",
    "\n",
    "------------------------------------------------------------------------------------------------------------------\n",
    "And can we overfit such a small and simple dataset? Using a maximum depth of 6 and reducing our parameters min_samples_leaf and min_samples_split to 1 and 2, respectively, **we now have a train score of 1 and a test score of 0.98.** As we've seen in out last workshop, having a better accuracy in out training set than in out test set is a clear sign of overfitting!\n",
    "\n",
    "![alternate text](http://i63.tinypic.com/2njvwi0.png)"
   ]
  },
  {
   "cell_type": "markdown",
   "metadata": {},
   "source": [
    "------------------------------------------------------------------------------------------------------------------\n",
    "**Key tips on implementing decision trees**\n",
    "==\n",
    "\n",
    "* **Use the right ratio of samples to number of features** - Decision trees have the tendency to overfit when trained with data that uses a large number of features. It's a good idea to perform dimensionality reduction beforehand.\n",
    "\n",
    "* **Start with maximum deepness of 3** - Start with this value and change it accordingly to your results. It's an important aspect to prevent overfitting.\n",
    "\n",
    "* **Start with a value of 5 for the minimum number of samples on min_samples_split and min_samples_leaf** - This parameters are used to control the number of samples at a leaf node. As we've seen in our examples, lower values will make your tree overfit (you allow your tree to have leafs with a smaller number of samples -> tree will generalize poorly to unseen data), while higher values will prevent your tree to learn the data (if each leaf has too have too many samples -> your tree will be to general and will not describe your data).\n",
    "\n",
    "more tips at: http://scikit-learn.org/stable/modules/tree.html#tips-on-practical-use"
   ]
  }
 ],
 "metadata": {
  "anaconda-cloud": {},
  "kernel_info": {
   "name": "python3"
  },
  "kernelspec": {
   "display_name": "Python [default]",
   "language": "python",
   "name": "python3"
  },
  "language_info": {
   "codemirror_mode": {
    "name": "ipython",
    "version": 3
   },
   "file_extension": ".py",
   "mimetype": "text/x-python",
   "name": "python",
   "nbconvert_exporter": "python",
   "pygments_lexer": "ipython3",
   "version": "3.5.2"
  }
 },
 "nbformat": 4,
 "nbformat_minor": 4
}
